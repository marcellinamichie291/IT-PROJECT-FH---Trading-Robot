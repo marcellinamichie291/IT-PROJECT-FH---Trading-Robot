{
  "nbformat": 4,
  "nbformat_minor": 0,
  "metadata": {
    "colab": {
      "provenance": [],
      "collapsed_sections": [],
      "authorship_tag": "ABX9TyNZomqUQHc7/I3b+svY7kCu",
      "include_colab_link": true
    },
    "kernelspec": {
      "name": "python3",
      "display_name": "Python 3"
    },
    "language_info": {
      "name": "python"
    }
  },
  "cells": [
    {
      "cell_type": "markdown",
      "metadata": {
        "id": "view-in-github",
        "colab_type": "text"
      },
      "source": [
        "<a href=\"https://colab.research.google.com/github/lamachina/IT-PROJECT-FH---Trading-Robot/blob/main/Sniper_listing_kucoin_v1.ipynb\" target=\"_parent\"><img src=\"https://colab.research.google.com/assets/colab-badge.svg\" alt=\"Open In Colab\"/></a>"
      ]
    },
    {
      "cell_type": "code",
      "execution_count": 1,
      "metadata": {
        "colab": {
          "base_uri": "https://localhost:8080/"
        },
        "id": "ZzOA8dgFBbKe",
        "outputId": "f396e283-8da5-4d3e-83db-e49f4b849344"
      },
      "outputs": [
        {
          "output_type": "stream",
          "name": "stdout",
          "text": [
            "Looking in indexes: https://pypi.org/simple, https://us-python.pkg.dev/colab-wheels/public/simple/\n",
            "Requirement already satisfied: ccxt in /usr/local/lib/python3.7/dist-packages (1.95.35)\n",
            "Requirement already satisfied: setuptools>=60.9.0 in /usr/local/lib/python3.7/dist-packages (from ccxt) (65.4.1)\n",
            "Requirement already satisfied: cryptography>=2.6.1 in /usr/local/lib/python3.7/dist-packages (from ccxt) (38.0.1)\n",
            "Requirement already satisfied: yarl>=1.7.2 in /usr/local/lib/python3.7/dist-packages (from ccxt) (1.8.1)\n",
            "Requirement already satisfied: aiohttp>=3.8 in /usr/local/lib/python3.7/dist-packages (from ccxt) (3.8.3)\n",
            "Requirement already satisfied: aiodns>=1.1.1 in /usr/local/lib/python3.7/dist-packages (from ccxt) (3.0.0)\n",
            "Requirement already satisfied: requests>=2.18.4 in /usr/local/lib/python3.7/dist-packages (from ccxt) (2.23.0)\n",
            "Requirement already satisfied: certifi>=2018.1.18 in /usr/local/lib/python3.7/dist-packages (from ccxt) (2022.9.24)\n",
            "Requirement already satisfied: pycares>=4.0.0 in /usr/local/lib/python3.7/dist-packages (from aiodns>=1.1.1->ccxt) (4.2.2)\n",
            "Requirement already satisfied: attrs>=17.3.0 in /usr/local/lib/python3.7/dist-packages (from aiohttp>=3.8->ccxt) (22.1.0)\n",
            "Requirement already satisfied: async-timeout<5.0,>=4.0.0a3 in /usr/local/lib/python3.7/dist-packages (from aiohttp>=3.8->ccxt) (4.0.2)\n",
            "Requirement already satisfied: typing-extensions>=3.7.4 in /usr/local/lib/python3.7/dist-packages (from aiohttp>=3.8->ccxt) (4.1.1)\n",
            "Requirement already satisfied: asynctest==0.13.0 in /usr/local/lib/python3.7/dist-packages (from aiohttp>=3.8->ccxt) (0.13.0)\n",
            "Requirement already satisfied: multidict<7.0,>=4.5 in /usr/local/lib/python3.7/dist-packages (from aiohttp>=3.8->ccxt) (6.0.2)\n",
            "Requirement already satisfied: charset-normalizer<3.0,>=2.0 in /usr/local/lib/python3.7/dist-packages (from aiohttp>=3.8->ccxt) (2.1.1)\n",
            "Requirement already satisfied: frozenlist>=1.1.1 in /usr/local/lib/python3.7/dist-packages (from aiohttp>=3.8->ccxt) (1.3.1)\n",
            "Requirement already satisfied: aiosignal>=1.1.2 in /usr/local/lib/python3.7/dist-packages (from aiohttp>=3.8->ccxt) (1.2.0)\n",
            "Requirement already satisfied: cffi>=1.12 in /usr/local/lib/python3.7/dist-packages (from cryptography>=2.6.1->ccxt) (1.15.1)\n",
            "Requirement already satisfied: pycparser in /usr/local/lib/python3.7/dist-packages (from cffi>=1.12->cryptography>=2.6.1->ccxt) (2.21)\n",
            "Requirement already satisfied: chardet<4,>=3.0.2 in /usr/local/lib/python3.7/dist-packages (from requests>=2.18.4->ccxt) (3.0.4)\n",
            "Requirement already satisfied: urllib3!=1.25.0,!=1.25.1,<1.26,>=1.21.1 in /usr/local/lib/python3.7/dist-packages (from requests>=2.18.4->ccxt) (1.24.3)\n",
            "Requirement already satisfied: idna<3,>=2.5 in /usr/local/lib/python3.7/dist-packages (from requests>=2.18.4->ccxt) (2.10)\n"
          ]
        }
      ],
      "source": [
        "%pip install ccxt"
      ]
    },
    {
      "cell_type": "code",
      "source": [
        "import ccxt\n",
        "import time\n",
        "\n",
        "class SpotKucoin():\n",
        "    def __init__(self, apiKey=None, secret=None, password=None):\n",
        "        kucoinAuthObject = {\n",
        "            \"apiKey\": apiKey,\n",
        "            \"secret\": secret,\n",
        "            \"password\": password,\n",
        "        }\n",
        "        if kucoinAuthObject['secret'] == None:\n",
        "            self._auth = False\n",
        "            self._session = ccxt.kucoin()\n",
        "        else:\n",
        "            self._auth = True\n",
        "            self._session = ccxt.kucoin(kucoinAuthObject)\n",
        "        self.market = self._session.load_markets()\n",
        "\n",
        "    def reload_markets(self):\n",
        "        self.market = self._session.load_markets()\n",
        "\n",
        "    def authentication_required(fn):\n",
        "        \"\"\"Annotation for methods that require auth.\"\"\"\n",
        "        def wrapped(self, *args, **kwargs):\n",
        "            if not self._auth:\n",
        "                print(\"You must be authenticated to use this method\", fn)\n",
        "                exit()\n",
        "            else:\n",
        "                return fn(self, *args, **kwargs)\n",
        "        return wrapped\n",
        "\n",
        "    def convert_amount_to_precision(self, symbol, amount):\n",
        "        return self._session.amount_to_precision(symbol, amount)\n",
        "\n",
        "    def convert_price_to_precision(self, symbol, price):\n",
        "        return self._session.price_to_precision(symbol, price)\n",
        "\n",
        "    @authentication_required\n",
        "    def place_market_order(self, symbol, side, amount):\n",
        "        try:\n",
        "            return self._session.createOrder(\n",
        "                symbol, \n",
        "                'market', \n",
        "                side, \n",
        "                self.convert_amount_to_precision(symbol, amount),\n",
        "                None\n",
        "            )\n",
        "        except Exception as err:\n",
        "            raise err\n",
        "\n",
        "    @authentication_required\n",
        "    def place_limit_order(self, symbol, side, amount, price):\n",
        "        try:\n",
        "            return self._session.createOrder(\n",
        "                symbol, \n",
        "                'limit', \n",
        "                side, \n",
        "                self.convert_amount_to_precision(symbol, amount), \n",
        "                self.convert_price_to_precision(symbol, price)\n",
        "                )\n",
        "        except Exception as err:\n",
        "            raise err\n",
        "\n",
        "kucoin = SpotKucoin(\n",
        "    apiKey=\"384b57ep8807o48a1113f3f7fc\",\n",
        "    secret=\"186354ba-9dep-4t5n-4644-bcbc78d611pr\",\n",
        "    password=\"motdepassedelapi\"\n",
        ")\n",
        "\n",
        "symbol = \"KICKS/USDT\"\n",
        "amount = 1000\n",
        "sell_price = 0.09\n",
        "# KICKS - Issue Price : $0.005 - 2022-10-18 12:00 UTC+2\n",
        "# Amount: le nombre de coins que tu veux buy par transaction\n",
        "# Sell price : le prix de vente\n",
        "\n",
        "while True:\n",
        "    try:\n",
        "        kucoin.reload_markets()\n",
        "\n",
        "        kucoin.place_market_order(symbol, \"buy\", amount)\n",
        "        print(\"buy\")\n",
        "\n",
        "        kucoin.place_limit_order(symbol, \"sell\", amount, sell_price)\n",
        "        print(\"sell\")\n",
        "        break\n",
        "    except Exception as err:\n",
        "        print(err)\n",
        "        if str(err) == \"kucoin does not have market symbol \" + symbol:\n",
        "            time.sleep(0.1)\n",
        "        pass"
      ],
      "metadata": {
        "id": "aOL0modPCXnp"
      },
      "execution_count": null,
      "outputs": []
    }
  ]
}